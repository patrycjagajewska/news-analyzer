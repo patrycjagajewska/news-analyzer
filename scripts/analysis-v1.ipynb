{
 "cells": [
  {
   "cell_type": "code",
   "execution_count": 1,
   "metadata": {},
   "outputs": [],
   "source": [
    "import pandas as pd"
   ]
  },
  {
   "cell_type": "code",
   "execution_count": 4,
   "metadata": {},
   "outputs": [],
   "source": [
    "from pymongo import MongoClient\n",
    "client = MongoClient('localhost', 27017)"
   ]
  },
  {
   "cell_type": "code",
   "execution_count": 9,
   "metadata": {},
   "outputs": [],
   "source": [
    "db = client['news-analyzer']\n",
    "collection = db['feed']"
   ]
  },
  {
   "cell_type": "code",
   "execution_count": 30,
   "metadata": {
    "scrolled": false
   },
   "outputs": [
    {
     "name": "stdout",
     "output_type": "stream",
     "text": [
      "53\n",
      "https://www.tvn24.pl/raporty/100-lecie-niepodleglosci,1228 ['DE', 'RU', 'PL', 'US']\n",
      "https://www.tvn24.pl/raporty/zyczenia-dla-polski,1272 ['PL', 'US']\n",
      "https://www.tvn24.pl/podziel-sie-pogoda-nowa-aplikacja-mobilna-tvn-meteo,807603,s.html []\n",
      "http://www.tvn24.pl/zdjecia/zdjecie-dnia,46897.html []\n",
      "https://www.tvn24.pl/libia-zatrzymano-dwa-statki-przewozace-migrantow,834946,s.html ['DE', 'RU', 'IL', 'IT', 'PL', 'LY', 'ES']\n",
      "https://www.tvn24.pl/matura-2018-w-poniedzialek-egzamin-z-matematyki,834947,s.html ['DE', 'RU', 'IL', 'PL', 'ES']\n",
      "https://www.tvn24.pl/chca-holowac-gory-lodowe-z-antarktydy-do-afryki-zeby-zakonczyc-kryzys-wodny,835023,s.html []\n",
      "http://tvn24bis.pl/redirect/air-france-moze-zniknac-minister-ostrzega,834978.html []\n",
      "http://tvn24bis.pl/redirect/wladimir-putin-przesiadl-sie-do-nowej-limuzyny,835097.html []\n",
      "https://www.tvn24.pl/akwarysta-winny-zabojstwa-udusil-ofiare-paskiem-od-torby,835076,s.html []\n",
      "https://www.tvn24.pl/maj-pokaze-gwaltowne-oblicze-codziennie-beda-burze-spadnie-grad,835114,s.html []\n",
      "https://www.tvn24.pl/ogien-zajal-cale-poddasze-mieszkancy-ewakuowani,835074,s.html []\n",
      "https://www.tvn24.pl/mial-na-marszu-koszulke-z-nazistowskimi-symbolami-uslyszal-zarzuty,835062,s.html []\n",
      "http://tvn24bis.pl/redirect/doplaty-do-czynszow-nie-tylko-w-mieszkaniu-plus-eksperci-oceniaja,834835.html []\n",
      "https://www.tvn24.pl/probowal-nagle-zmienic-trase-uderzyl-w-bariery-i-uciekl-z-auta-gigantyczne-korki-na-s8,834989,s.html []\n",
      "http://tvn24bis.pl/redirect/ropa-mocno-drozeje-jest-wyceniana-najwyzej-od-listopada-2014-roku,834966.html []\n",
      "https://www.tvn24.pl/jemen-gubernator-sokotry-oskarza-zea-o-naruszenie-suwerennosci,834932,s.html ['DE', 'RU', 'IL', 'IN', 'YE', 'PL', 'SA', 'ES']\n",
      "https://www.tvn24.pl/xavi-zmienia-zdanie-zagram-jeszcze-przez-szesc-miesiecy,834982,s.html ['QA', 'PL', 'ES']\n",
      "https://www.tvn24.pl/natura-na-czele-wybraliscie-material-tygodnia,834970,s.html []\n",
      "https://www.tvn24.pl/ujazdowski-w-tvn24-pl-o-protescie-niepelnosprawnych-w-sejmie,834961,s.html ['DE', 'RU', 'IL', 'PL', 'ES']\n",
      "https://www.tvn24.pl/tanczace-holowniki-najciekawsze-wideo-tygodnia-w-tvn24-pl,834417,s.html ['DE', 'RU', 'IL', 'PL', 'ES']\n",
      "https://www.tvn24.pl/akcja-ratunkowa-w-kopalni-zofiowka-w-poniedzialek-wydobycie-nie-ruszy,834967,s.html ['DE', 'RU', 'IL', 'PL', 'ES']\n",
      "https://www.tvn24.pl/plastikowe-pudlo-a-w-srodku-szesc-szczeniakow,835006,s.html ['DE', 'RU', 'IL', 'PL', 'ES']\n",
      "https://www.tvn24.pl/izraelski-minister-asad-moze-zostac-zlikwidowany,835011,s.html ['DE', 'IL', 'RU', 'SY', 'IR', 'PL', 'ES']\n",
      "https://www.tvn24.pl/guardiola-do-dziennikarzy-pijcie-panowie,835010,s.html ['PL']\n",
      "https://www.tvn24.pl/wymyslowo-pijany-55-latek-lezal-na-drodze,835063,s.html ['DE', 'RU', 'IL', 'PL', 'ES']\n",
      "https://www.tvn24.pl/zazalenie-na-areszt-dla-posla-gawlowskiego,835032,s.html ['DE', 'RU', 'IL', 'PL', 'ES']\n",
      "https://www.tvn24.pl/gwalty-na-trzech-nastolatkach-we-wschodnich-indiach,834942,s.html ['DE', 'RU', 'IL', 'PL', 'ES']\n",
      "https://www.tvn24.pl/tatry-w-okolicach-morskiego-oka-odnaleziono-ludzkie-szczatki,835016,s.html ['DE', 'RU', 'IL', 'MY', 'PL', 'ES']\n",
      "https://www.tvn24.pl/pirat-juz-z-zarzutami-za-szalenstwo-na-drodze-i-nekanie-bylej-zony,835058,s.html ['DE', 'RU', 'IL', 'PL', 'ES']\n",
      "https://www.tvn24.pl/projekt-zmiany-ustawy-o-karach-i-wykonywaniu-mandatu-posla-i-senatora,835014,s.html ['DE', 'RU', 'IL', 'PL', 'ES']\n",
      "https://www.tvn24.pl/powolano-konferencje-ambasadorow-rp,835033,s.html ['DE', 'RU', 'IL', 'PL', 'FR', 'US', 'ES']\n",
      "https://www.tvn24.pl/bron-atomowa-iranu-izrael-znalazl-dowody,834356,s.html ['IL', 'SY', 'IR', 'GB', 'PL', 'FR', 'US']\n",
      "https://www.tvn24.pl/boniek-po-operacji-gramy-dalej,835112,s.html ['PL']\n",
      "https://www.tvn24.pl/wnioski-z-tragedii-w-suszku-szef-strazakow-jestesmy-przygotowani-na-ekstremalne-zjawiska,835093,s.html []\n",
      "https://www.tvn24.pl/pory-rozne-dzwieki-takie-same-karteczkowa-debata-na-mokotowie,835035,s.html []\n",
      "https://www.tvn24.pl/przed-sadem-odpowie-za-zgwalcenie-osmioletniej-dziewczynki,835028,s.html ['DE', 'RU', 'IL', 'PL', 'ES']\n",
      "http://tvn24bis.pl/redirect/czartoryski-zrzeka-sie-palacu-w-sieniawie,835002.html []\n",
      "https://www.tvn24.pl/slupsk-policjant-krystian-l-wraca-do-aresztu,835043,s.html ['DE', 'RU', 'IL', 'PL', 'ES']\n",
      "https://www.tvn24.pl/tatry-kolejny-smiertelny-wypadek-turysta-spadl-z-duzej-wysokosci,835051,s.html ['DE', 'RU', 'IL', 'PL', 'ES']\n",
      "https://www.tvn24.pl/grobelny-nie-powalczy-o-poznan-poparl-innego-kandydata,835069,s.html ['DE', 'RU', 'IL', 'PL', 'ES']\n",
      "https://www.tvn24.pl/o-mostach-nad-wisla-i-o-tym-czy-agitacja-jest-dozwolona,835034,s.html []\n",
      "https://www.tvn24.pl/rosja-putin-zaprzysiezony-na-prezydenta-po-raz-czwarty,835027,s.html ['DE', 'RU', 'IL', 'PL', 'US', 'ES']\n",
      "https://www.tvn24.pl/jurij-uszakow-angela-merkel-przyleci-do-soczi,835050,s.html ['DE', 'RU', 'IL', 'PL', 'ES']\n",
      "https://www.tvn24.pl/lawa-strawila-kolejne-domy-zycie-tutaj-to-ryzyko-ktore-podejmujesz-by-miec-cale-to-piekno,834920,s.html []\n",
      "http://tvn24bis.pl/redirect/nestle-bedzie-sprzedawac-produkty-starbucksa,835031.html []\n",
      "http://tvn24bis.pl/redirect/pzpm-w-i-kwartale-2018-zarejestrowano-139-9-tys-samochodow-osobowych,835083.html []\n",
      "https://www.tvn24.pl/szymon-marciniak-wyznaczony-na-final-ligi-europy,835042,s.html ['XS', 'PL']\n",
      "https://www.tvn24.pl/franck-ribery-przedluzyl-kontrakt-z-bayernem,835095,s.html ['DE']\n",
      "https://www.tvn24.pl/niemcy-zaniepokojone-ograniczeniami-w-pracy-dziennikarzy-w-chinach,835075,s.html ['DE', 'RU', 'IL', 'CN', 'PL', 'ES']\n",
      "https://www.tvn24.pl/wlosi-szukaja-wyjscia-z-impasu,835066,s.html ['DE', 'RU', 'IL', 'IT', 'PL', 'ES']\n",
      "https://www.tvn24.pl/jemen-nalot-na-stolice-sane,835057,s.html ['DE', 'RU', 'IL', 'PL', 'SA', 'ES']\n",
      "https://www.tvn24.pl/ciepla-pogoda-sprzyja-zmijom-od-nas-zalezy-czy-sprowokujemy-je-do-ataku,835084,s.html []\n"
     ]
    }
   ],
   "source": [
    "filtered_feeds = collection.find({\"tags\": {\"$ne\": None}})\n",
    "print(filtered.count())\n",
    "for feed in filtered_feeds:\n",
    "    print(feed['link'], feed['tags'])"
   ]
  },
  {
   "cell_type": "code",
   "execution_count": 31,
   "metadata": {},
   "outputs": [
    {
     "data": {
      "text/plain": [
       "<pymongo.cursor.Cursor at 0x104c44278>"
      ]
     },
     "execution_count": 31,
     "metadata": {},
     "output_type": "execute_result"
    }
   ],
   "source": [
    "collection.find()"
   ]
  },
  {
   "cell_type": "code",
   "execution_count": null,
   "metadata": {},
   "outputs": [],
   "source": [
    ""
   ]
  }
 ],
 "metadata": {
  "kernelspec": {
   "display_name": "Python 3",
   "language": "python",
   "name": "python3"
  },
  "language_info": {
   "codemirror_mode": {
    "name": "ipython",
    "version": 3.0
   },
   "file_extension": ".py",
   "mimetype": "text/x-python",
   "name": "python",
   "nbconvert_exporter": "python",
   "pygments_lexer": "ipython3",
   "version": "3.6.1"
  }
 },
 "nbformat": 4,
 "nbformat_minor": 0
}